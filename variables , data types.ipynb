{
 "cells": [
  {
   "cell_type": "code",
   "execution_count": 2,
   "id": "81ea2716",
   "metadata": {},
   "outputs": [
    {
     "name": "stdout",
     "output_type": "stream",
     "text": [
      "19\n",
      "joe\n"
     ]
    }
   ],
   "source": [
    "# creating a variable\n",
    "# there is no special command for it.\n",
    "# the variable will be created when you assign a value to it.\n",
    "\n",
    "age = 19\n",
    "name = \"joe\"\n",
    "print(age)\n",
    "print(name)"
   ]
  },
  {
   "cell_type": "code",
   "execution_count": 3,
   "id": "7f498097",
   "metadata": {},
   "outputs": [
    {
     "name": "stdout",
     "output_type": "stream",
     "text": [
      "hello world\n"
     ]
    }
   ],
   "source": [
    "# Variables do not need to be declared with any particular type, \n",
    "# and can even change type after they have been set.\n",
    "\n",
    "x = 19\n",
    "x = \"hello world\"\n",
    "print(x)"
   ]
  },
  {
   "cell_type": "code",
   "execution_count": 5,
   "id": "fad09e6f",
   "metadata": {},
   "outputs": [
    {
     "name": "stdout",
     "output_type": "stream",
     "text": [
      "3\n",
      "9.0\n",
      "21\n"
     ]
    }
   ],
   "source": [
    "# if you want you can also specify the data type.\n",
    "x = int(3.0)\n",
    "y = float(9)\n",
    "z = str(21)\n",
    "print(x)\n",
    "print(y)\n",
    "print(z)"
   ]
  },
  {
   "cell_type": "code",
   "execution_count": 6,
   "id": "24565eb6",
   "metadata": {},
   "outputs": [
    {
     "name": "stdout",
     "output_type": "stream",
     "text": [
      "<class 'int'>\n",
      "<class 'float'>\n",
      "<class 'str'>\n"
     ]
    }
   ],
   "source": [
    "# you can use the type command to check the data type of the stored value in the variables.\n",
    "x = int(3.0)\n",
    "y = float(9)\n",
    "z = str(21)\n",
    "print(type(x))\n",
    "print(type(y))\n",
    "print(type(z))"
   ]
  },
  {
   "cell_type": "code",
   "execution_count": 7,
   "id": "66770525",
   "metadata": {},
   "outputs": [
    {
     "name": "stdout",
     "output_type": "stream",
     "text": [
      "hello world\n",
      "hello world\n"
     ]
    }
   ],
   "source": [
    "# you can use double quotes and single quotes it is the same thing.\n",
    "print(\"hello world\")\n",
    "print('hello world')"
   ]
  },
  {
   "cell_type": "code",
   "execution_count": 9,
   "id": "7d82bc4b",
   "metadata": {},
   "outputs": [
    {
     "name": "stdout",
     "output_type": "stream",
     "text": [
      "19\n",
      "19\n"
     ]
    }
   ],
   "source": [
    "# varible are case sensitive\n",
    "x = 19\n",
    "X = 19\n",
    "# these two are not the same thing.\n",
    "print(x)\n",
    "print(X)"
   ]
  },
  {
   "cell_type": "code",
   "execution_count": 13,
   "id": "f5499957",
   "metadata": {},
   "outputs": [],
   "source": [
    "# there are some rules for the variable names.\n",
    "# A variable name must start with a letter or the underscore character.\n",
    "# A variable name cannot start with a number.\n",
    "# A variable name can only contain alpha-numeric characters and underscores (A-z, 0-9, and _ ).\n",
    "# Variable names are case-sensitive (age, Age and AGE are three different variables).\n",
    "# A variable name cannot be any of the Python keywords."
   ]
  },
  {
   "cell_type": "code",
   "execution_count": 14,
   "id": "67fa8865",
   "metadata": {},
   "outputs": [],
   "source": [
    "# these are some valid names.\n",
    "myvar = \"ali\"\n",
    "my_var = \"John\"\n",
    "_my_var = \"ahmed\"\n",
    "myVar = \"joe\"\n",
    "MYVAR = \"Jelly\"\n",
    "myvar2 = \"trevor\""
   ]
  },
  {
   "cell_type": "code",
   "execution_count": 15,
   "id": "224ba1f3",
   "metadata": {},
   "outputs": [
    {
     "ename": "SyntaxError",
     "evalue": "invalid decimal literal (1601667139.py, line 2)",
     "output_type": "error",
     "traceback": [
      "\u001b[1;36m  Cell \u001b[1;32mIn[15], line 2\u001b[1;36m\u001b[0m\n\u001b[1;33m    2myvar = \"walter white\"\u001b[0m\n\u001b[1;37m    ^\u001b[0m\n\u001b[1;31mSyntaxError\u001b[0m\u001b[1;31m:\u001b[0m invalid decimal literal\n"
     ]
    }
   ],
   "source": [
    "# these are some illegal names.\n",
    "2myvar = \"walter white\"\n",
    "my-var = \"hank\"\n",
    "my var = \"henry\""
   ]
  },
  {
   "cell_type": "code",
   "execution_count": 16,
   "id": "24538930",
   "metadata": {},
   "outputs": [
    {
     "name": "stdout",
     "output_type": "stream",
     "text": [
      "strawberry\n",
      "Banana\n",
      "blueberry\n"
     ]
    }
   ],
   "source": [
    "# you can also assign multiple value to multiple variables in one line.\n",
    "x, y, z = \"strawberry\", \"Banana\", \"blueberry\"\n",
    "print(x)\n",
    "print(y)\n",
    "print(z)"
   ]
  },
  {
   "cell_type": "code",
   "execution_count": 17,
   "id": "6b60fe0a",
   "metadata": {},
   "outputs": [
    {
     "name": "stdout",
     "output_type": "stream",
     "text": [
      "Orange\n",
      "Orange\n",
      "Orange\n"
     ]
    }
   ],
   "source": [
    "# you can also assign same value to the multiple variables.\n",
    "x = y = z = \"Orange\"\n",
    "print(x)\n",
    "print(y)\n",
    "print(z)"
   ]
  },
  {
   "cell_type": "code",
   "execution_count": 18,
   "id": "e1f0cf9b",
   "metadata": {},
   "outputs": [
    {
     "name": "stdout",
     "output_type": "stream",
     "text": [
      "john\n"
     ]
    }
   ],
   "source": [
    "# you can also print the value stored in the variable.\n",
    "name = \"john\"\n",
    "print(name)"
   ]
  },
  {
   "cell_type": "code",
   "execution_count": 20,
   "id": "9a3fc75c",
   "metadata": {},
   "outputs": [
    {
     "name": "stdout",
     "output_type": "stream",
     "text": [
      "ahmed ali raj\n"
     ]
    }
   ],
   "source": [
    "# you can use \"+\" you output multiple varibles.\n",
    "# but they should be same data type.\n",
    "name1 = \"ahmed \"\n",
    "name2 = \"ali \"\n",
    "name3 = \"raj\"\n",
    "print(name1 + name2 + name3)"
   ]
  },
  {
   "cell_type": "code",
   "execution_count": 21,
   "id": "393ccb30",
   "metadata": {},
   "outputs": [
    {
     "ename": "TypeError",
     "evalue": "can only concatenate str (not \"int\") to str",
     "output_type": "error",
     "traceback": [
      "\u001b[1;31m---------------------------------------------------------------------------\u001b[0m",
      "\u001b[1;31mTypeError\u001b[0m                                 Traceback (most recent call last)",
      "Cell \u001b[1;32mIn[21], line 5\u001b[0m\n\u001b[0;32m      3\u001b[0m age \u001b[38;5;241m=\u001b[39m \u001b[38;5;241m19\u001b[39m\n\u001b[0;32m      4\u001b[0m height \u001b[38;5;241m=\u001b[39m \u001b[38;5;241m180.5\u001b[39m\n\u001b[1;32m----> 5\u001b[0m \u001b[38;5;28mprint\u001b[39m(name \u001b[38;5;241m+\u001b[39m age \u001b[38;5;241m+\u001b[39m height)\n",
      "\u001b[1;31mTypeError\u001b[0m: can only concatenate str (not \"int\") to str"
     ]
    }
   ],
   "source": [
    "# \"+\" this will not work for the different data type for example.\n",
    "name = \"hamza\"\n",
    "age = 19\n",
    "height = 180.5\n",
    "print(name + age + height)"
   ]
  },
  {
   "cell_type": "code",
   "execution_count": 22,
   "id": "53d3e2e9",
   "metadata": {},
   "outputs": [
    {
     "name": "stdout",
     "output_type": "stream",
     "text": [
      "hamza 19 180.5\n"
     ]
    }
   ],
   "source": [
    "# for different data types we can use \",\".\n",
    "name = \"hamza\"\n",
    "age = 19\n",
    "height = 180.5\n",
    "print(name , age , height)"
   ]
  },
  {
   "cell_type": "code",
   "execution_count": 23,
   "id": "278e4b80",
   "metadata": {},
   "outputs": [],
   "source": [
    "# there are many data types in python.\n",
    "# for example\n",
    "# for text we use: str\n",
    "# for numeric values we use: int , float and complex\n",
    "# for sequence we use: list , tuple and range \n",
    "# for mapping we use: dict\n",
    "# for set we use: set and frozenset\n",
    "# for boolean we use: bool\n",
    "# for binary we use: bytes , bytearray and memoryview\n",
    "# for none we use: nonetype"
   ]
  },
  {
   "cell_type": "code",
   "execution_count": null,
   "id": "08da0f0b",
   "metadata": {},
   "outputs": [],
   "source": [
    "# some examples\n",
    "x = str(\"Hello World\")\t                      #str\t\n",
    "x = int(20)\t                                  #int\t\n",
    "x = float(20.5)                               #float\n",
    "x = list((\"apple\", \"banana\", \"cherry\"))\t      #list\t\n",
    "x = tuple((\"apple\", \"banana\", \"cherry\"))\t  #tuple\t\n",
    "x = range(6)\t                              #range\t\n",
    "x = dict(name=\"John\", age=36)\t              #dict\t\n",
    "x = set((\"apple\", \"banana\", \"cherry\"))\t      #set\n",
    "x = bool(5)\t                                  #bool"
   ]
  }
 ],
 "metadata": {
  "kernelspec": {
   "display_name": "Python 3 (ipykernel)",
   "language": "python",
   "name": "python3"
  },
  "language_info": {
   "codemirror_mode": {
    "name": "ipython",
    "version": 3
   },
   "file_extension": ".py",
   "mimetype": "text/x-python",
   "name": "python",
   "nbconvert_exporter": "python",
   "pygments_lexer": "ipython3",
   "version": "3.11.5"
  }
 },
 "nbformat": 4,
 "nbformat_minor": 5
}
